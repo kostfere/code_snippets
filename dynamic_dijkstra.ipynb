{
 "cells": [
  {
   "cell_type": "code",
   "execution_count": 231,
   "metadata": {},
   "outputs": [],
   "source": [
    "import networkx as nx\n",
    "import pandas as pd\n",
    "import numpy as np\n",
    "import itertools\n",
    "%matplotlib inline"
   ]
  },
  {
   "cell_type": "code",
   "execution_count": 232,
   "metadata": {},
   "outputs": [],
   "source": [
    "def print_G(G):\n",
    "    import pylab\n",
    "    pos = nx.spring_layout(G)  # positions for all nodes\n",
    "\n",
    "    nx.draw(G,pos)\n",
    "    \n",
    "    # nodes\n",
    "    nx.draw_networkx_nodes(G, pos, node_size=700)\n",
    "\n",
    "    # edges\n",
    "    nx.draw_networkx_edges(G, pos, width=2)\n",
    "    \n",
    "# specifiy edge labels explicitly\n",
    "    edge_labels=dict([((u,v,),d['weight'])\n",
    "                 for u,v,d in G.edges(data=True)])\n",
    "    nx.draw_networkx_edge_labels(G,pos,edge_labels=edge_labels)\n",
    "\n",
    "    nx.draw_networkx_labels(G, pos, font_size=20\n",
    "                            , font_family='sans-serif'\n",
    "                            ,edge_labels=nx.get_edge_attributes(G,'weight').values)\n",
    "\n",
    "    \n",
    "    pylab.show()"
   ]
  },
  {
   "cell_type": "code",
   "execution_count": null,
   "metadata": {
    "scrolled": true
   },
   "outputs": [],
   "source": []
  },
  {
   "cell_type": "code",
   "execution_count": 233,
   "metadata": {},
   "outputs": [],
   "source": [
    "class RPQ:\n",
    "    def __init__(self):\n",
    "        cols_df = ['current_node','distance_from_start','prev_node','time_joined','time']\n",
    "        self.df = pd.DataFrame(columns=cols_df)\n",
    "        \n",
    "        cols_df_visited = ['time','nodes_visited']\n",
    "        self.df_visited = pd.DataFrame(columns=cols_df_visited)\n",
    "        \n",
    "        self.df.loc[len(self.df)] = ['s',0,'s',0,0]\n",
    "        self.df_visited.loc[len(self.df_visited)] = [0,np.array([])]\n",
    "        self.visited = []\n",
    "        self.time = 0\n",
    "    \n",
    "    def add_visited(self,node):\n",
    "        if node not in rpq.visited:\n",
    "            self.visited.append(node)\n",
    "        \n",
    "    def update_visited_nodes(self):\n",
    "        self.df_visited.loc[len(self.df_visited)]=[self.time,str(self.visited).translate(None, \"[] '\").split(',')]\n",
    "\n",
    "    def increase_time(self):\n",
    "        self.time = self.time + 1\n",
    "       \n",
    "    def insert(self,row):\n",
    "        self.df.loc[len(self.df)]=row\n",
    "        self.df = (self.df\n",
    "                   .sort_values(['time','distance_from_start','time_joined'],ascending=[False,True,True])\n",
    "                   .reset_index()\n",
    "                   .drop('index',axis=1)\n",
    "                  )\n",
    "    \n",
    "    def de_dup(self):\n",
    "        self.df = self.df.drop_duplicates(subset = ['current_node','time'])\n",
    "    \n",
    "    def add_timestep(self):\n",
    "        max_time = self.df.time.max()\n",
    "        temp = self.df[self.df.time == max_time][1:]\n",
    "        temp.time = self.time\n",
    "        self.df = (self.df.append(temp)\n",
    "                   .sort_values(['time','distance_from_start','time_joined'],ascending=[False,True,True])\n",
    "                  )\n",
    "        \n",
    "        \n",
    "    def pop_current_node(self):\n",
    "        temp_df = self.df[(self.df.time==self.df.time.max())]\n",
    "        temp_df = temp_df[~temp_df.current_node.isin(self.visited)]\n",
    "        ret = temp_df.current_node.iloc[0]\n",
    "        current_tot_weight = temp_df.distance_from_start.iloc[0]\n",
    "        #self.df = self.df.iloc[1:]\n",
    "        return ret,current_tot_weight\n",
    "    \n"
   ]
  },
  {
   "cell_type": "code",
   "execution_count": 234,
   "metadata": {},
   "outputs": [],
   "source": [
    "# temp_df = rpq.df[(rpq.df.time==rpq.time)]\n",
    "# temp_df = temp_df[~temp_df.current_node.isin(self.visited)]\n",
    "# ret = temp_df.current_node.iloc[0]\n",
    "# current_tot_weight = temp_df.distance_from_start.iloc[0]"
   ]
  },
  {
   "cell_type": "code",
   "execution_count": 249,
   "metadata": {},
   "outputs": [],
   "source": [
    "temp_df = rpq.df[(rpq.df.time==rpq.df.time.max())]\n",
    "#temp_df = temp_df[~temp_df.current_node.isin(rpq.visited)]"
   ]
  },
  {
   "cell_type": "code",
   "execution_count": 250,
   "metadata": {
    "scrolled": true
   },
   "outputs": [
    {
     "data": {
      "text/html": [
       "<div>\n",
       "<table border=\"1\" class=\"dataframe\">\n",
       "  <thead>\n",
       "    <tr style=\"text-align: right;\">\n",
       "      <th></th>\n",
       "      <th>current_node</th>\n",
       "      <th>distance_from_start</th>\n",
       "      <th>prev_node</th>\n",
       "      <th>time_joined</th>\n",
       "      <th>time</th>\n",
       "    </tr>\n",
       "  </thead>\n",
       "  <tbody>\n",
       "    <tr>\n",
       "      <th>0</th>\n",
       "      <td>f</td>\n",
       "      <td>14.0</td>\n",
       "      <td>a</td>\n",
       "      <td>2.0</td>\n",
       "      <td>7.0</td>\n",
       "    </tr>\n",
       "  </tbody>\n",
       "</table>\n",
       "</div>"
      ],
      "text/plain": [
       "  current_node  distance_from_start prev_node  time_joined  time\n",
       "0            f                 14.0         a          2.0   7.0"
      ]
     },
     "execution_count": 250,
     "metadata": {},
     "output_type": "execute_result"
    }
   ],
   "source": [
    "temp_df"
   ]
  },
  {
   "cell_type": "code",
   "execution_count": null,
   "metadata": {},
   "outputs": [],
   "source": []
  },
  {
   "cell_type": "code",
   "execution_count": null,
   "metadata": {},
   "outputs": [],
   "source": []
  },
  {
   "cell_type": "code",
   "execution_count": null,
   "metadata": {},
   "outputs": [],
   "source": []
  },
  {
   "cell_type": "code",
   "execution_count": null,
   "metadata": {},
   "outputs": [],
   "source": []
  },
  {
   "cell_type": "code",
   "execution_count": null,
   "metadata": {},
   "outputs": [],
   "source": []
  },
  {
   "cell_type": "code",
   "execution_count": 235,
   "metadata": {},
   "outputs": [],
   "source": [
    "# max_time = rpq.df.time.max()\n",
    "# temp = rpq.df[rpq.df.time == max_time][1:]\n",
    "# temp"
   ]
  },
  {
   "cell_type": "code",
   "execution_count": 253,
   "metadata": {},
   "outputs": [],
   "source": [
    "G = nx.Graph()\n",
    "\n",
    "uniq_times = np.unique(time_table[['time_on', 'time_off']].values)[:-1]\n",
    "\n",
    "rpq = RPQ()"
   ]
  },
  {
   "cell_type": "code",
   "execution_count": null,
   "metadata": {
    "scrolled": true
   },
   "outputs": [],
   "source": []
  },
  {
   "cell_type": "code",
   "execution_count": 258,
   "metadata": {
    "scrolled": true
   },
   "outputs": [
    {
     "name": "stdout",
     "output_type": "stream",
     "text": [
      "[]\n",
      "   time    nodes_visited\n",
      "0   0.0               []\n",
      "1   1.0              [s]\n",
      "2   2.0           [s, a]\n",
      "3   3.0        [s, a, b]\n",
      "4   4.0     [s, a, b, c]\n",
      "5   5.0  [s, a, b, c, e]\n"
     ]
    },
    {
     "data": {
      "text/html": [
       "<div>\n",
       "<table border=\"1\" class=\"dataframe\">\n",
       "  <thead>\n",
       "    <tr style=\"text-align: right;\">\n",
       "      <th></th>\n",
       "      <th>current_node</th>\n",
       "      <th>distance_from_start</th>\n",
       "      <th>prev_node</th>\n",
       "      <th>time_joined</th>\n",
       "      <th>time</th>\n",
       "    </tr>\n",
       "  </thead>\n",
       "  <tbody>\n",
       "    <tr>\n",
       "      <th>0</th>\n",
       "      <td>d</td>\n",
       "      <td>7.0</td>\n",
       "      <td>b</td>\n",
       "      <td>3.0</td>\n",
       "      <td>5.0</td>\n",
       "    </tr>\n",
       "    <tr>\n",
       "      <th>2</th>\n",
       "      <td>t</td>\n",
       "      <td>13.0</td>\n",
       "      <td>e</td>\n",
       "      <td>5.0</td>\n",
       "      <td>5.0</td>\n",
       "    </tr>\n",
       "    <tr>\n",
       "      <th>3</th>\n",
       "      <td>f</td>\n",
       "      <td>14.0</td>\n",
       "      <td>a</td>\n",
       "      <td>2.0</td>\n",
       "      <td>5.0</td>\n",
       "    </tr>\n",
       "    <tr>\n",
       "      <th>4</th>\n",
       "      <td>e</td>\n",
       "      <td>6.0</td>\n",
       "      <td>b</td>\n",
       "      <td>3.0</td>\n",
       "      <td>4.0</td>\n",
       "    </tr>\n",
       "    <tr>\n",
       "      <th>5</th>\n",
       "      <td>d</td>\n",
       "      <td>7.0</td>\n",
       "      <td>b</td>\n",
       "      <td>3.0</td>\n",
       "      <td>4.0</td>\n",
       "    </tr>\n",
       "    <tr>\n",
       "      <th>6</th>\n",
       "      <td>f</td>\n",
       "      <td>14.0</td>\n",
       "      <td>a</td>\n",
       "      <td>2.0</td>\n",
       "      <td>4.0</td>\n",
       "    </tr>\n",
       "    <tr>\n",
       "      <th>7</th>\n",
       "      <td>c</td>\n",
       "      <td>4.0</td>\n",
       "      <td>s</td>\n",
       "      <td>1.0</td>\n",
       "      <td>3.0</td>\n",
       "    </tr>\n",
       "    <tr>\n",
       "      <th>8</th>\n",
       "      <td>e</td>\n",
       "      <td>6.0</td>\n",
       "      <td>b</td>\n",
       "      <td>3.0</td>\n",
       "      <td>3.0</td>\n",
       "    </tr>\n",
       "    <tr>\n",
       "      <th>9</th>\n",
       "      <td>d</td>\n",
       "      <td>7.0</td>\n",
       "      <td>b</td>\n",
       "      <td>3.0</td>\n",
       "      <td>3.0</td>\n",
       "    </tr>\n",
       "    <tr>\n",
       "      <th>10</th>\n",
       "      <td>f</td>\n",
       "      <td>14.0</td>\n",
       "      <td>a</td>\n",
       "      <td>2.0</td>\n",
       "      <td>3.0</td>\n",
       "    </tr>\n",
       "    <tr>\n",
       "      <th>11</th>\n",
       "      <td>b</td>\n",
       "      <td>3.0</td>\n",
       "      <td>s</td>\n",
       "      <td>1.0</td>\n",
       "      <td>2.0</td>\n",
       "    </tr>\n",
       "    <tr>\n",
       "      <th>12</th>\n",
       "      <td>c</td>\n",
       "      <td>4.0</td>\n",
       "      <td>s</td>\n",
       "      <td>1.0</td>\n",
       "      <td>2.0</td>\n",
       "    </tr>\n",
       "    <tr>\n",
       "      <th>13</th>\n",
       "      <td>d</td>\n",
       "      <td>9.0</td>\n",
       "      <td>a</td>\n",
       "      <td>2.0</td>\n",
       "      <td>2.0</td>\n",
       "    </tr>\n",
       "    <tr>\n",
       "      <th>14</th>\n",
       "      <td>f</td>\n",
       "      <td>14.0</td>\n",
       "      <td>a</td>\n",
       "      <td>2.0</td>\n",
       "      <td>2.0</td>\n",
       "    </tr>\n",
       "    <tr>\n",
       "      <th>15</th>\n",
       "      <td>a</td>\n",
       "      <td>2.0</td>\n",
       "      <td>s</td>\n",
       "      <td>1.0</td>\n",
       "      <td>1.0</td>\n",
       "    </tr>\n",
       "    <tr>\n",
       "      <th>16</th>\n",
       "      <td>b</td>\n",
       "      <td>3.0</td>\n",
       "      <td>s</td>\n",
       "      <td>1.0</td>\n",
       "      <td>1.0</td>\n",
       "    </tr>\n",
       "    <tr>\n",
       "      <th>17</th>\n",
       "      <td>c</td>\n",
       "      <td>4.0</td>\n",
       "      <td>s</td>\n",
       "      <td>1.0</td>\n",
       "      <td>1.0</td>\n",
       "    </tr>\n",
       "    <tr>\n",
       "      <th>18</th>\n",
       "      <td>s</td>\n",
       "      <td>0.0</td>\n",
       "      <td>s</td>\n",
       "      <td>0.0</td>\n",
       "      <td>0.0</td>\n",
       "    </tr>\n",
       "  </tbody>\n",
       "</table>\n",
       "</div>"
      ],
      "text/plain": [
       "   current_node  distance_from_start prev_node  time_joined  time\n",
       "0             d                  7.0         b          3.0   5.0\n",
       "2             t                 13.0         e          5.0   5.0\n",
       "3             f                 14.0         a          2.0   5.0\n",
       "4             e                  6.0         b          3.0   4.0\n",
       "5             d                  7.0         b          3.0   4.0\n",
       "6             f                 14.0         a          2.0   4.0\n",
       "7             c                  4.0         s          1.0   3.0\n",
       "8             e                  6.0         b          3.0   3.0\n",
       "9             d                  7.0         b          3.0   3.0\n",
       "10            f                 14.0         a          2.0   3.0\n",
       "11            b                  3.0         s          1.0   2.0\n",
       "12            c                  4.0         s          1.0   2.0\n",
       "13            d                  9.0         a          2.0   2.0\n",
       "14            f                 14.0         a          2.0   2.0\n",
       "15            a                  2.0         s          1.0   1.0\n",
       "16            b                  3.0         s          1.0   1.0\n",
       "17            c                  4.0         s          1.0   1.0\n",
       "18            s                  0.0         s          0.0   0.0"
      ]
     },
     "execution_count": 258,
     "metadata": {},
     "output_type": "execute_result"
    }
   ],
   "source": [
    "if rpq.time in uniq_times:\n",
    "    for edge in time_table[time_table.time_off == rpq.time].edge:\n",
    "        try:\n",
    "            G.remove_edge(edge[0], edge[1])\n",
    "            print rpq.time,'rem ', edge\n",
    "        except:\n",
    "            pass\n",
    "    for row in time_table[time_table.time_on == rpq.time].iterrows():\n",
    "        print rpq.time,'add ', row[1].edge\n",
    "        G.add_edge(row[1].edge[0], row[1].edge[1],weight = row[1].weight)\n",
    "        \n",
    "    print_G(G)\n",
    "\n",
    "    \n",
    "current_node, current_tot_weight = rpq.pop_current_node()\n",
    "\n",
    "list_affected_edges = time_table[(time_table.time_on == rpq.time) | (time_table.time_off == rpq.time)].edge.values\n",
    "flat_list_edges = list(itertools.chain(*list_affected_edges))\n",
    "\n",
    "vertex_to_check = list(set(flat_list_edges).intersection(rpq.visited))\n",
    "\n",
    "print vertex_to_check \n",
    "\n",
    "if vertex_to_check!=[]:\n",
    "\n",
    "    for vrtx in vertex_to_check:\n",
    "        visited = rpq.df.drop_duplicates(subset = ['time'], keep=\"first\").reset_index().drop('index',axis=1)\n",
    "        inst = visited[visited.current_node == vrtx]\n",
    "        temp_new_edges = (time_table[((time_table.V_A==vrtx) | (time_table.V_B==vrtx)) & (time_table.time_on==rpq.time)].\n",
    "                         reset_index().\n",
    "                         drop('index'\n",
    "                              ,axis=1))\n",
    "\n",
    "        for i in np.arange(0,len(temp_new_edges)):\n",
    "            if temp_new_edges.V_A.values[0]==vrtx:\n",
    "                new_vrtx = temp_new_edges.V_B.values[i]\n",
    "            else:\n",
    "                new_vrtx = temp_new_edges.V_A.values[i]\n",
    "            print i,new_vrtx,vrtx\n",
    "            rpq.insert([new_vrtx\n",
    "                    ,inst.distance_from_start.values[0]+temp_new_edges.weight[i]\n",
    "                    ,vrtx\n",
    "                    ,rpq.time\n",
    "                    ,rpq.time\n",
    "                   ])\n",
    "else:\n",
    "    pass\n",
    "\n",
    "\n",
    "\n",
    "#rpq.de_dup()\n",
    "current_node, current_tot_weight = rpq.pop_current_node()\n",
    "\n",
    "rpq.add_visited(current_node) ## note that this node has been visited\n",
    "rpq.increase_time() ## increase timer by 1\n",
    "\n",
    "# start logging which nodes are considered as visited through time\n",
    "rpq.update_visited_nodes()\n",
    "print rpq.df_visited\n",
    "\n",
    "current_connections = list(G.adj[current_node])\n",
    "rpq.add_timestep()\n",
    "visited = rpq.df.drop_duplicates(subset = ['time']).reset_index().drop('index',axis=1)\n",
    "if vertex_to_check!=[]:\n",
    "    print \"change!!!!!!\"\n",
    "    \n",
    "    time_in_past = visited[visited.current_node==current_node].time_joined.min()\n",
    "    rpq.visited=rpq.df_visited[rpq.df_visited.time==time_in_past].nodes_visited.values[0]\n",
    "\n",
    "nodes_to_check = list(set(current_connections).difference(rpq.visited))\n",
    "\n",
    "for node in nodes_to_check:\n",
    "    #print current_node,node,+G[current_node][node].values()[0]\n",
    "    rpq.insert([node\n",
    "                ,current_tot_weight+G[current_node][node].values()[0]\n",
    "                ,current_node\n",
    "                ,rpq.time\n",
    "                ,rpq.time\n",
    "               ])\n",
    "#rpq.de_dup()\n",
    "rpq.df=rpq.df.drop_duplicates(subset = ['current_node','time'], keep=\"first\")\n",
    "#rpq.df=tst\n",
    "rpq.df"
   ]
  },
  {
   "cell_type": "code",
   "execution_count": null,
   "metadata": {
    "scrolled": true
   },
   "outputs": [],
   "source": []
  },
  {
   "cell_type": "code",
   "execution_count": 252,
   "metadata": {},
   "outputs": [
    {
     "data": {
      "image/png": "[encoded data removed]",
      "text/plain": [
       "<matplotlib.figure.Figure at 0xd5e6f28>"
      ]
     },
     "metadata": {},
     "output_type": "display_data"
    }
   ],
   "source": [
    "print_G(G)"
   ]
  },
  {
   "cell_type": "code",
   "execution_count": 47,
   "metadata": {},
   "outputs": [
    {
     "data": {
      "text/html": [
       "<div>\n",
       "<table border=\"1\" class=\"dataframe\">\n",
       "  <thead>\n",
       "    <tr style=\"text-align: right;\">\n",
       "      <th></th>\n",
       "      <th>current_node</th>\n",
       "      <th>distance_from_start</th>\n",
       "      <th>prev_node</th>\n",
       "      <th>time_joined</th>\n",
       "      <th>time</th>\n",
       "    </tr>\n",
       "  </thead>\n",
       "  <tbody>\n",
       "    <tr>\n",
       "      <th>0</th>\n",
       "      <td>c</td>\n",
       "      <td>4.0</td>\n",
       "      <td>s</td>\n",
       "      <td>1.0</td>\n",
       "      <td>3.0</td>\n",
       "    </tr>\n",
       "    <tr>\n",
       "      <th>1</th>\n",
       "      <td>b</td>\n",
       "      <td>4.0</td>\n",
       "      <td>a</td>\n",
       "      <td>2.0</td>\n",
       "      <td>3.0</td>\n",
       "    </tr>\n",
       "    <tr>\n",
       "      <th>2</th>\n",
       "      <td>c</td>\n",
       "      <td>4.0</td>\n",
       "      <td>b</td>\n",
       "      <td>3.0</td>\n",
       "      <td>3.0</td>\n",
       "    </tr>\n",
       "    <tr>\n",
       "      <th>3</th>\n",
       "      <td>e</td>\n",
       "      <td>6.0</td>\n",
       "      <td>b</td>\n",
       "      <td>3.0</td>\n",
       "      <td>3.0</td>\n",
       "    </tr>\n",
       "    <tr>\n",
       "      <th>4</th>\n",
       "      <td>d</td>\n",
       "      <td>7.0</td>\n",
       "      <td>b</td>\n",
       "      <td>3.0</td>\n",
       "      <td>3.0</td>\n",
       "    </tr>\n",
       "    <tr>\n",
       "      <th>5</th>\n",
       "      <td>d</td>\n",
       "      <td>9.0</td>\n",
       "      <td>a</td>\n",
       "      <td>2.0</td>\n",
       "      <td>3.0</td>\n",
       "    </tr>\n",
       "    <tr>\n",
       "      <th>6</th>\n",
       "      <td>f</td>\n",
       "      <td>14.0</td>\n",
       "      <td>a</td>\n",
       "      <td>2.0</td>\n",
       "      <td>3.0</td>\n",
       "    </tr>\n",
       "    <tr>\n",
       "      <th>7</th>\n",
       "      <td>b</td>\n",
       "      <td>3.0</td>\n",
       "      <td>s</td>\n",
       "      <td>1.0</td>\n",
       "      <td>2.0</td>\n",
       "    </tr>\n",
       "    <tr>\n",
       "      <th>12</th>\n",
       "      <td>a</td>\n",
       "      <td>2.0</td>\n",
       "      <td>s</td>\n",
       "      <td>1.0</td>\n",
       "      <td>1.0</td>\n",
       "    </tr>\n",
       "    <tr>\n",
       "      <th>13</th>\n",
       "      <td>s</td>\n",
       "      <td>0.0</td>\n",
       "      <td>s</td>\n",
       "      <td>0.0</td>\n",
       "      <td>0.0</td>\n",
       "    </tr>\n",
       "  </tbody>\n",
       "</table>\n",
       "</div>"
      ],
      "text/plain": [
       "   current_node  distance_from_start prev_node  time_joined  time\n",
       "0             c                  4.0         s          1.0   3.0\n",
       "1             b                  4.0         a          2.0   3.0\n",
       "2             c                  4.0         b          3.0   3.0\n",
       "3             e                  6.0         b          3.0   3.0\n",
       "4             d                  7.0         b          3.0   3.0\n",
       "5             d                  9.0         a          2.0   3.0\n",
       "6             f                 14.0         a          2.0   3.0\n",
       "7             b                  3.0         s          1.0   2.0\n",
       "12            a                  2.0         s          1.0   1.0\n",
       "13            s                  0.0         s          0.0   0.0"
      ]
     },
     "execution_count": 47,
     "metadata": {},
     "output_type": "execute_result"
    }
   ],
   "source": [
    "rpq.df.drop_duplicates(subset = ['current_node','time_joined'], keep=\"first\")"
   ]
  },
  {
   "cell_type": "code",
   "execution_count": 35,
   "metadata": {},
   "outputs": [
    {
     "data": {
      "image/png": "[encoded data removed]",
      "text/plain": [
       "<matplotlib.figure.Figure at 0xca76f60>"
      ]
     },
     "metadata": {},
     "output_type": "display_data"
    }
   ],
   "source": [
    "print_G(G)"
   ]
  },
  {
   "cell_type": "code",
   "execution_count": null,
   "metadata": {
    "scrolled": true
   },
   "outputs": [],
   "source": []
  },
  {
   "cell_type": "code",
   "execution_count": null,
   "metadata": {},
   "outputs": [],
   "source": []
  },
  {
   "cell_type": "code",
   "execution_count": null,
   "metadata": {
    "scrolled": true
   },
   "outputs": [],
   "source": []
  },
  {
   "cell_type": "code",
   "execution_count": null,
   "metadata": {},
   "outputs": [],
   "source": []
  },
  {
   "cell_type": "code",
   "execution_count": null,
   "metadata": {},
   "outputs": [],
   "source": []
  },
  {
   "cell_type": "code",
   "execution_count": null,
   "metadata": {},
   "outputs": [],
   "source": []
  },
  {
   "cell_type": "code",
   "execution_count": null,
   "metadata": {},
   "outputs": [],
   "source": [
    "# visited = rpq.df.drop_duplicates('time').reset_index().drop('index',axis=1)\n",
    "# inst = visited[visited.current_node == vrtx]\n",
    "# temp_new_edges = (time_table[((time_table.V_A==vrtx) | (time_table.V_B==vrtx)) & (time_table.time_on==rpq.time)].\n",
    "#                  reset_index().\n",
    "#                  drop('index'\n",
    "#                       ,axis=1))"
   ]
  },
  {
   "cell_type": "code",
   "execution_count": null,
   "metadata": {},
   "outputs": [],
   "source": []
  },
  {
   "cell_type": "code",
   "execution_count": null,
   "metadata": {},
   "outputs": [],
   "source": []
  },
  {
   "cell_type": "code",
   "execution_count": null,
   "metadata": {},
   "outputs": [],
   "source": []
  },
  {
   "cell_type": "code",
   "execution_count": null,
   "metadata": {},
   "outputs": [],
   "source": []
  },
  {
   "cell_type": "code",
   "execution_count": null,
   "metadata": {},
   "outputs": [],
   "source": [
    "# rpq.time=10"
   ]
  },
  {
   "cell_type": "code",
   "execution_count": null,
   "metadata": {},
   "outputs": [],
   "source": [
    "# for vrtx in vertex_to_check:\n",
    "#     print vrtx\n",
    "#     visited = rpq.df.drop_duplicates('time').reset_index().drop('index',axis=1)\n",
    "#     inst = visited[visited.current_node == vrtx]\n",
    "#     temp_new_edges = (time_table[((time_table.V_A==vrtx) | (time_table.V_B==vrtx)) & (time_table.time_on==rpq.time)].\n",
    "#                      reset_index().\n",
    "#                      drop('index'\n",
    "#                           ,axis=1))\n",
    "\n",
    "#     for i in np.arange(0,len(temp_new_edges)):\n",
    "#         print i,new_vrtx,vrtx\n",
    "#         if temp_new_edges.V_A.values[0]==vrtx:\n",
    "#             new_vrtx = temp_new_edges.V_B.values[i]\n",
    "#         else:\n",
    "#             new_vrtx = temp_new_edges.V_A.values[i]\n",
    "#         print i,new_vrtx,vrtx\n",
    "# #             rpq.insert([new_vrtx\n",
    "# #                     ,inst.distance_from_start.values[0]+temp_new_edges.weight[i]\n",
    "# #                     ,vrtx\n",
    "# #                     ,rpq.time\n",
    "# #                     ,rpq.time\n",
    "# #                    ])"
   ]
  },
  {
   "cell_type": "code",
   "execution_count": null,
   "metadata": {},
   "outputs": [],
   "source": [
    "# temp_new_edges"
   ]
  },
  {
   "cell_type": "code",
   "execution_count": null,
   "metadata": {},
   "outputs": [],
   "source": [
    "# temp_new_edges"
   ]
  },
  {
   "cell_type": "code",
   "execution_count": null,
   "metadata": {},
   "outputs": [],
   "source": [
    "# vrtx='e'"
   ]
  },
  {
   "cell_type": "code",
   "execution_count": null,
   "metadata": {},
   "outputs": [],
   "source": [
    "# (time_table[((time_table.V_A==vrtx) | (time_table.V_B==vrtx)) & (time_table.time_on==rpq.time)].\n",
    "#                      reset_index().\n",
    "#                      drop('index'\n",
    "#                           ,axis=1))"
   ]
  },
  {
   "cell_type": "code",
   "execution_count": null,
   "metadata": {},
   "outputs": [],
   "source": []
  },
  {
   "cell_type": "code",
   "execution_count": null,
   "metadata": {},
   "outputs": [],
   "source": []
  },
  {
   "cell_type": "code",
   "execution_count": null,
   "metadata": {},
   "outputs": [],
   "source": []
  },
  {
   "cell_type": "code",
   "execution_count": null,
   "metadata": {},
   "outputs": [],
   "source": []
  },
  {
   "cell_type": "code",
   "execution_count": null,
   "metadata": {},
   "outputs": [],
   "source": []
  },
  {
   "cell_type": "code",
   "execution_count": null,
   "metadata": {},
   "outputs": [],
   "source": []
  },
  {
   "cell_type": "code",
   "execution_count": null,
   "metadata": {},
   "outputs": [],
   "source": []
  },
  {
   "cell_type": "code",
   "execution_count": null,
   "metadata": {},
   "outputs": [],
   "source": []
  },
  {
   "cell_type": "code",
   "execution_count": null,
   "metadata": {},
   "outputs": [],
   "source": []
  },
  {
   "cell_type": "code",
   "execution_count": null,
   "metadata": {},
   "outputs": [],
   "source": []
  },
  {
   "cell_type": "code",
   "execution_count": null,
   "metadata": {},
   "outputs": [],
   "source": []
  },
  {
   "cell_type": "code",
   "execution_count": null,
   "metadata": {},
   "outputs": [],
   "source": []
  },
  {
   "cell_type": "code",
   "execution_count": null,
   "metadata": {},
   "outputs": [],
   "source": []
  },
  {
   "cell_type": "code",
   "execution_count": null,
   "metadata": {},
   "outputs": [],
   "source": []
  },
  {
   "cell_type": "code",
   "execution_count": null,
   "metadata": {},
   "outputs": [],
   "source": []
  },
  {
   "cell_type": "code",
   "execution_count": null,
   "metadata": {},
   "outputs": [],
   "source": []
  },
  {
   "cell_type": "code",
   "execution_count": null,
   "metadata": {},
   "outputs": [],
   "source": []
  },
  {
   "cell_type": "code",
   "execution_count": null,
   "metadata": {},
   "outputs": [],
   "source": []
  },
  {
   "cell_type": "code",
   "execution_count": null,
   "metadata": {},
   "outputs": [],
   "source": []
  },
  {
   "cell_type": "code",
   "execution_count": null,
   "metadata": {},
   "outputs": [],
   "source": []
  },
  {
   "cell_type": "code",
   "execution_count": null,
   "metadata": {},
   "outputs": [],
   "source": []
  },
  {
   "cell_type": "code",
   "execution_count": null,
   "metadata": {},
   "outputs": [],
   "source": []
  },
  {
   "cell_type": "code",
   "execution_count": null,
   "metadata": {},
   "outputs": [],
   "source": []
  },
  {
   "cell_type": "code",
   "execution_count": null,
   "metadata": {},
   "outputs": [],
   "source": []
  },
  {
   "cell_type": "code",
   "execution_count": null,
   "metadata": {},
   "outputs": [],
   "source": []
  },
  {
   "cell_type": "code",
   "execution_count": null,
   "metadata": {},
   "outputs": [],
   "source": []
  },
  {
   "cell_type": "code",
   "execution_count": null,
   "metadata": {},
   "outputs": [],
   "source": [
    "# G = nx.Graph()\n",
    "\n",
    "\n",
    "# G.add_edge('o', 'a', weight=2)  \n",
    "# G.add_edge('o', 'b', weight=5)\n",
    "# G.add_edge('o', 'c', weight=4)\n",
    "\n",
    "# G.add_edge('a', 'b', weight=2)  \n",
    "# G.add_edge('a', 'd', weight=7)\n",
    "# G.add_edge('a', 'f', weight=12)\n",
    "\n",
    "# G.add_edge('b', 'c', weight=1)  \n",
    "# G.add_edge('b', 'd', weight=4)\n",
    "# G.add_edge('b', 'e', weight=3)\n",
    "\n",
    "# G.add_edge('c', 'e', weight=4)\n",
    "\n",
    "# G.add_edge('d', 'e', weight=4)  \n",
    "# G.add_edge('d', 't', weight=5)\n",
    "\n",
    "# G.add_edge('e', 't', weight=7)\n",
    "\n",
    "# G.add_edge('f', 't', weight=3)\n",
    "\n"
   ]
  },
  {
   "cell_type": "code",
   "execution_count": null,
   "metadata": {},
   "outputs": [],
   "source": []
  },
  {
   "cell_type": "code",
   "execution_count": null,
   "metadata": {},
   "outputs": [],
   "source": []
  },
  {
   "cell_type": "code",
   "execution_count": null,
   "metadata": {},
   "outputs": [],
   "source": []
  },
  {
   "cell_type": "code",
   "execution_count": null,
   "metadata": {},
   "outputs": [],
   "source": []
  },
  {
   "cell_type": "code",
   "execution_count": null,
   "metadata": {},
   "outputs": [],
   "source": []
  },
  {
   "cell_type": "code",
   "execution_count": null,
   "metadata": {},
   "outputs": [],
   "source": []
  },
  {
   "cell_type": "code",
   "execution_count": null,
   "metadata": {},
   "outputs": [],
   "source": [
    "# time_table[((time_table.V_A==vrtx) | (time_table.V_B==vrtx)) & (time_table.time_on==rpq.time)]"
   ]
  },
  {
   "cell_type": "code",
   "execution_count": null,
   "metadata": {},
   "outputs": [],
   "source": [
    "# temp_new_edges = (time_table[((time_table.V_A==vrtx) | (time_table.V_B==vrtx)) & (time_table.time_on==rpq.time)].\n",
    "#                          reset_index().\n",
    "#                          drop('index'\n",
    "#                               ,axis=1))"
   ]
  },
  {
   "cell_type": "code",
   "execution_count": null,
   "metadata": {},
   "outputs": [],
   "source": []
  },
  {
   "cell_type": "code",
   "execution_count": null,
   "metadata": {},
   "outputs": [],
   "source": [
    "# a = time_table.edge.values\n",
    "# b = 't'\n",
    "# [list(set(sublist).intersection(set(b))) for sublist in a]"
   ]
  },
  {
   "cell_type": "code",
   "execution_count": null,
   "metadata": {},
   "outputs": [],
   "source": []
  },
  {
   "cell_type": "code",
   "execution_count": null,
   "metadata": {},
   "outputs": [],
   "source": []
  },
  {
   "cell_type": "code",
   "execution_count": null,
   "metadata": {},
   "outputs": [],
   "source": []
  },
  {
   "cell_type": "code",
   "execution_count": null,
   "metadata": {},
   "outputs": [],
   "source": []
  },
  {
   "cell_type": "code",
   "execution_count": null,
   "metadata": {},
   "outputs": [],
   "source": [
    "# G = nx.Graph()\n",
    "\n",
    "# uniq_times = np.unique(time_table[['time_on', 'time_off']].values)[:-1]\n",
    "# for i in uniq_times:\n",
    "#     for edge in time_table[time_table.time_off == i].edge:\n",
    "#         try:\n",
    "#             G.remove_edge(edge[0], edge[1])\n",
    "#             print i,'rem ', edge\n",
    "#         except:\n",
    "#             pass\n",
    "#     for row in time_table[time_table.time_on == i].iterrows():\n",
    "#         print i,'add ', row[1][0]\n",
    "#         G.add_edge(row[1][0][0], row[1][0][1],weight = row[1][3])\n",
    "        \n",
    "#     print_G(G)"
   ]
  },
  {
   "cell_type": "code",
   "execution_count": null,
   "metadata": {},
   "outputs": [],
   "source": []
  },
  {
   "cell_type": "code",
   "execution_count": null,
   "metadata": {},
   "outputs": [],
   "source": [
    "# G = nx.Graph()\n",
    "\n",
    "\n",
    "# G.add_edge('s', 'a', weight=2)  \n",
    "# G.add_edge('s', 'b', weight=5)\n",
    "# G.add_edge('s', 'c', weight=4)\n",
    "\n",
    "# G.add_edge('a', 'b', weight=2)  \n",
    "# G.add_edge('a', 'd', weight=7)\n",
    "# G.add_edge('a', 'f', weight=12)\n",
    "\n",
    "# G.add_edge('b', 'c', weight=1)  \n",
    "# G.add_edge('b', 'd', weight=4)\n",
    "# G.add_edge('b', 'e', weight=3)\n",
    "\n",
    "# G.add_edge('c', 'e', weight=4)\n",
    "\n",
    "# G.add_edge('d', 'e', weight=4)  \n",
    "# G.add_edge('d', 't', weight=5)\n",
    "\n",
    "# G.add_edge('e', 't', weight=7)\n",
    "\n",
    "# G.add_edge('f', 't', weight=3)"
   ]
  },
  {
   "cell_type": "code",
   "execution_count": null,
   "metadata": {},
   "outputs": [],
   "source": [
    "# rpq = RPQ()"
   ]
  },
  {
   "cell_type": "code",
   "execution_count": null,
   "metadata": {},
   "outputs": [],
   "source": [
    "# current_node, current_tot_weight = rpq.pop_current_node()\n",
    "# print current_node,current_tot_weight\n",
    "# rpq.add_visited(current_node) ## note that this node has been visited\n",
    "# rpq.increase_time() ## increase timer by 1\n",
    "\n",
    "# current_connections = list(G.adj[current_node])\n",
    "# rpq.add_timestep()\n",
    "\n",
    "# for node in list(set(current_connections).difference(rpq.visited)):\n",
    "#     print current_node,node,+G[current_node][node].values()[0]\n",
    "#     rpq.insert([node\n",
    "#                 ,current_tot_weight+G[current_node][node].values()[0]\n",
    "#                 ,current_node\n",
    "#                 ,rpq.time\n",
    "#                 ,rpq.time\n",
    "#                ])\n",
    "# rpq.de_dup()\n"
   ]
  },
  {
   "cell_type": "code",
   "execution_count": null,
   "metadata": {},
   "outputs": [],
   "source": []
  },
  {
   "cell_type": "code",
   "execution_count": null,
   "metadata": {},
   "outputs": [],
   "source": []
  },
  {
   "cell_type": "code",
   "execution_count": null,
   "metadata": {},
   "outputs": [],
   "source": []
  },
  {
   "cell_type": "code",
   "execution_count": null,
   "metadata": {},
   "outputs": [],
   "source": []
  },
  {
   "cell_type": "code",
   "execution_count": null,
   "metadata": {},
   "outputs": [],
   "source": []
  },
  {
   "cell_type": "code",
   "execution_count": null,
   "metadata": {},
   "outputs": [],
   "source": []
  },
  {
   "cell_type": "code",
   "execution_count": null,
   "metadata": {},
   "outputs": [],
   "source": []
  },
  {
   "cell_type": "code",
   "execution_count": null,
   "metadata": {},
   "outputs": [],
   "source": []
  },
  {
   "cell_type": "code",
   "execution_count": null,
   "metadata": {},
   "outputs": [],
   "source": []
  },
  {
   "cell_type": "code",
   "execution_count": null,
   "metadata": {},
   "outputs": [],
   "source": []
  },
  {
   "cell_type": "code",
   "execution_count": null,
   "metadata": {},
   "outputs": [],
   "source": []
  },
  {
   "cell_type": "code",
   "execution_count": null,
   "metadata": {},
   "outputs": [],
   "source": []
  },
  {
   "cell_type": "code",
   "execution_count": null,
   "metadata": {},
   "outputs": [],
   "source": []
  },
  {
   "cell_type": "code",
   "execution_count": null,
   "metadata": {},
   "outputs": [],
   "source": []
  },
  {
   "cell_type": "code",
   "execution_count": null,
   "metadata": {},
   "outputs": [],
   "source": []
  },
  {
   "cell_type": "code",
   "execution_count": null,
   "metadata": {},
   "outputs": [],
   "source": [
    "\n"
   ]
  },
  {
   "cell_type": "code",
   "execution_count": null,
   "metadata": {},
   "outputs": [],
   "source": []
  }
 ],
 "metadata": {
  "kernelspec": {
   "display_name": "Python 2",
   "language": "python",
   "name": "python2"
  },
  "language_info": {
   "codemirror_mode": {
    "name": "ipython",
    "version": 2
   },
   "file_extension": ".py",
   "mimetype": "text/x-python",
   "name": "python",
   "nbconvert_exporter": "python",
   "pygments_lexer": "ipython2",
   "version": "2.7.15"
  }
 },
 "nbformat": 4,
 "nbformat_minor": 2
}
