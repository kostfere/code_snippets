{
 "cells": [
  {
   "cell_type": "code",
   "execution_count": 1,
   "metadata": {},
   "outputs": [],
   "source": [
    "import networkx as nx\n",
    "import pandas as pd\n",
    "import numpy as np\n",
    "import itertools\n",
    "%matplotlib inline"
   ]
  },
  {
   "cell_type": "code",
   "execution_count": 2,
   "metadata": {},
   "outputs": [],
   "source": [
    "def print_G(G):\n",
    "    import pylab\n",
    "    pos = nx.spring_layout(G)  # positions for all nodes\n",
    "\n",
    "    nx.draw(G,pos)\n",
    "    \n",
    "    # nodes\n",
    "    nx.draw_networkx_nodes(G, pos, node_size=700)\n",
    "\n",
    "    # edges\n",
    "    nx.draw_networkx_edges(G, pos, width=2)\n",
    "    \n",
    "# specifiy edge labels explicitly\n",
    "    edge_labels=dict([((u,v,),d['weight'])\n",
    "                 for u,v,d in G.edges(data=True)])\n",
    "    nx.draw_networkx_edge_labels(G,pos,edge_labels=edge_labels)\n",
    "\n",
    "    nx.draw_networkx_labels(G, pos, font_size=20\n",
    "                            , font_family='sans-serif'\n",
    "                            ,edge_labels=nx.get_edge_attributes(G,'weight').values)\n",
    "\n",
    "    \n",
    "    pylab.show()"
   ]
  },
  {
   "cell_type": "code",
   "execution_count": 3,
   "metadata": {},
   "outputs": [],
   "source": [
    "class RPQ:\n",
    "    def __init__(self):\n",
    "        cols_df = ['current_node','distance_from_start','prev_node','time_joined','time']\n",
    "        self.df = pd.DataFrame(columns=cols_df)\n",
    "        \n",
    "        cols_df_visited = ['time','nodes_visited']\n",
    "        self.df_visited = pd.DataFrame(columns=cols_df_visited)\n",
    "        \n",
    "        self.df.loc[len(self.df)] = ['s',0,'s',0,0]\n",
    "        self.df_visited.loc[len(self.df_visited)] = [0,np.array([])]\n",
    "        self.visited = []\n",
    "        self.time = 0\n",
    "    \n",
    "    def add_visited(self,node):\n",
    "        self.visited.append(node)\n",
    "        \n",
    "    def update_visited_nodes(self):\n",
    "        self.df_visited.loc[len(self.df_visited)]=[self.time,str(rpq.visited).translate(None, \"[] '\").split(',')]\n",
    "\n",
    "    def increase_time(self):\n",
    "        self.time = self.time + 1\n",
    "       \n",
    "    def insert(self,row):\n",
    "        self.df.loc[len(self.df)]=row\n",
    "        self.df = (self.df\n",
    "                   .sort_values(['time','distance_from_start','time_joined'],ascending=[False,True,True])\n",
    "                   .reset_index()\n",
    "                   .drop('index',axis=1)\n",
    "                  )\n",
    "    \n",
    "    def de_dup(self):\n",
    "        self.df = self.df.drop_duplicates(subset = ['current_node','time'])\n",
    "    \n",
    "    def add_timestep(self):\n",
    "        max_time = self.df.time.max()\n",
    "        temp = self.df[self.df.time == max_time][1:]\n",
    "        temp.time = self.time\n",
    "        self.df = (self.df.append(temp)\n",
    "                   .sort_values(['time','distance_from_start','time_joined'],ascending=[False,True,True])\n",
    "                  )\n",
    "        \n",
    "        \n",
    "    def pop_current_node(self):\n",
    "        ret = self.df.current_node.iloc[0]\n",
    "        current_tot_weight = self.df.distance_from_start.iloc[0]\n",
    "        #self.df = self.df.iloc[1:]\n",
    "        return ret,current_tot_weight\n",
    "    \n"
   ]
  },
  {
   "cell_type": "code",
   "execution_count": 4,
   "metadata": {},
   "outputs": [],
   "source": [
    "# # edges = [('s', 't'),('s', 't'), ('s', 'b'), ('b', 't')]\n",
    "\n",
    "# # time_off = [np.inf, 3, 1.,  1.]\n",
    "# # time_on = [3, 1 ,0, 0]\n",
    "# # weight = [0.1,1,1,1]\n",
    "\n",
    "# edges = [('s', 'b'), ('b', 't'),('s','e'),('e','t'),('s','t')]\n",
    "# time_off = [1.,  1., np.inf, np.inf, np.inf]\n",
    "# time_on = [0, 0, 1, 1,1]\n",
    "# weight = [1,1,0.01,0.3,0.4]\n",
    "\n",
    "\n",
    "# time_table = pd.DataFrame(\n",
    "#             {'edge': edges\n",
    "#               ,'time_on': time_on\n",
    "#               ,'time_off': time_off\n",
    "#               ,'weight': weight\n",
    "#             }\n",
    "#             )\n",
    "\n",
    "# V_A = []\n",
    "# V_B = []\n",
    "# for edge in time_table.edge:\n",
    "#     V_A = np.append(V_A,edge[0])\n",
    "#     V_B = np.append(V_B,edge[1])\n",
    "# time_table['V_A'] = V_A\n",
    "# time_table['V_B'] = V_B\n",
    "# time_table"
   ]
  },
  {
   "cell_type": "code",
   "execution_count": 5,
   "metadata": {
    "scrolled": true
   },
   "outputs": [
    {
     "data": {
      "text/html": [
       "<div>\n",
       "<table border=\"1\" class=\"dataframe\">\n",
       "  <thead>\n",
       "    <tr style=\"text-align: right;\">\n",
       "      <th></th>\n",
       "      <th>edge</th>\n",
       "      <th>weight</th>\n",
       "      <th>time_on</th>\n",
       "      <th>time_off</th>\n",
       "      <th>V_A</th>\n",
       "      <th>V_B</th>\n",
       "    </tr>\n",
       "  </thead>\n",
       "  <tbody>\n",
       "    <tr>\n",
       "      <th>0</th>\n",
       "      <td>(a, s)</td>\n",
       "      <td>2</td>\n",
       "      <td>0</td>\n",
       "      <td>inf</td>\n",
       "      <td>a</td>\n",
       "      <td>s</td>\n",
       "    </tr>\n",
       "    <tr>\n",
       "      <th>1</th>\n",
       "      <td>(a, b)</td>\n",
       "      <td>2</td>\n",
       "      <td>0</td>\n",
       "      <td>inf</td>\n",
       "      <td>a</td>\n",
       "      <td>b</td>\n",
       "    </tr>\n",
       "    <tr>\n",
       "      <th>2</th>\n",
       "      <td>(a, d)</td>\n",
       "      <td>7</td>\n",
       "      <td>0</td>\n",
       "      <td>inf</td>\n",
       "      <td>a</td>\n",
       "      <td>d</td>\n",
       "    </tr>\n",
       "    <tr>\n",
       "      <th>3</th>\n",
       "      <td>(a, f)</td>\n",
       "      <td>12</td>\n",
       "      <td>0</td>\n",
       "      <td>inf</td>\n",
       "      <td>a</td>\n",
       "      <td>f</td>\n",
       "    </tr>\n",
       "    <tr>\n",
       "      <th>4</th>\n",
       "      <td>(c, s)</td>\n",
       "      <td>4</td>\n",
       "      <td>0</td>\n",
       "      <td>inf</td>\n",
       "      <td>c</td>\n",
       "      <td>s</td>\n",
       "    </tr>\n",
       "    <tr>\n",
       "      <th>5</th>\n",
       "      <td>(c, b)</td>\n",
       "      <td>1</td>\n",
       "      <td>0</td>\n",
       "      <td>inf</td>\n",
       "      <td>c</td>\n",
       "      <td>b</td>\n",
       "    </tr>\n",
       "    <tr>\n",
       "      <th>6</th>\n",
       "      <td>(c, e)</td>\n",
       "      <td>4</td>\n",
       "      <td>0</td>\n",
       "      <td>inf</td>\n",
       "      <td>c</td>\n",
       "      <td>e</td>\n",
       "    </tr>\n",
       "    <tr>\n",
       "      <th>7</th>\n",
       "      <td>(b, s)</td>\n",
       "      <td>3</td>\n",
       "      <td>0</td>\n",
       "      <td>inf</td>\n",
       "      <td>b</td>\n",
       "      <td>s</td>\n",
       "    </tr>\n",
       "    <tr>\n",
       "      <th>8</th>\n",
       "      <td>(b, e)</td>\n",
       "      <td>3</td>\n",
       "      <td>0</td>\n",
       "      <td>inf</td>\n",
       "      <td>b</td>\n",
       "      <td>e</td>\n",
       "    </tr>\n",
       "    <tr>\n",
       "      <th>9</th>\n",
       "      <td>(b, d)</td>\n",
       "      <td>4</td>\n",
       "      <td>0</td>\n",
       "      <td>inf</td>\n",
       "      <td>b</td>\n",
       "      <td>d</td>\n",
       "    </tr>\n",
       "    <tr>\n",
       "      <th>10</th>\n",
       "      <td>(e, d)</td>\n",
       "      <td>4</td>\n",
       "      <td>0</td>\n",
       "      <td>inf</td>\n",
       "      <td>e</td>\n",
       "      <td>d</td>\n",
       "    </tr>\n",
       "    <tr>\n",
       "      <th>11</th>\n",
       "      <td>(e, t)</td>\n",
       "      <td>7</td>\n",
       "      <td>0</td>\n",
       "      <td>inf</td>\n",
       "      <td>e</td>\n",
       "      <td>t</td>\n",
       "    </tr>\n",
       "    <tr>\n",
       "      <th>12</th>\n",
       "      <td>(d, t)</td>\n",
       "      <td>5</td>\n",
       "      <td>0</td>\n",
       "      <td>inf</td>\n",
       "      <td>d</td>\n",
       "      <td>t</td>\n",
       "    </tr>\n",
       "    <tr>\n",
       "      <th>13</th>\n",
       "      <td>(f, t)</td>\n",
       "      <td>3</td>\n",
       "      <td>0</td>\n",
       "      <td>inf</td>\n",
       "      <td>f</td>\n",
       "      <td>t</td>\n",
       "    </tr>\n",
       "    <tr>\n",
       "      <th>14</th>\n",
       "      <td>(s, t)</td>\n",
       "      <td>1</td>\n",
       "      <td>10</td>\n",
       "      <td>inf</td>\n",
       "      <td>s</td>\n",
       "      <td>t</td>\n",
       "    </tr>\n",
       "  </tbody>\n",
       "</table>\n",
       "</div>"
      ],
      "text/plain": [
       "      edge  weight  time_on  time_off V_A V_B\n",
       "0   (a, s)       2        0       inf   a   s\n",
       "1   (a, b)       2        0       inf   a   b\n",
       "2   (a, d)       7        0       inf   a   d\n",
       "3   (a, f)      12        0       inf   a   f\n",
       "4   (c, s)       4        0       inf   c   s\n",
       "5   (c, b)       1        0       inf   c   b\n",
       "6   (c, e)       4        0       inf   c   e\n",
       "7   (b, s)       3        0       inf   b   s\n",
       "8   (b, e)       3        0       inf   b   e\n",
       "9   (b, d)       4        0       inf   b   d\n",
       "10  (e, d)       4        0       inf   e   d\n",
       "11  (e, t)       7        0       inf   e   t\n",
       "12  (d, t)       5        0       inf   d   t\n",
       "13  (f, t)       3        0       inf   f   t\n",
       "14  (s, t)       1       10       inf   s   t"
      ]
     },
     "execution_count": 5,
     "metadata": {},
     "output_type": "execute_result"
    }
   ],
   "source": [
    "G = nx.Graph()\n",
    "\n",
    "\n",
    "G.add_edge('s', 'a', weight=2)  \n",
    "G.add_edge('s', 'b', weight=3)\n",
    "G.add_edge('s', 'c', weight=4)\n",
    "\n",
    "G.add_edge('a', 'b', weight=2)  \n",
    "G.add_edge('a', 'd', weight=7)\n",
    "G.add_edge('a', 'f', weight=12)\n",
    "\n",
    "G.add_edge('b', 'c', weight=1)  \n",
    "G.add_edge('b', 'd', weight=4)\n",
    "G.add_edge('b', 'e', weight=3)\n",
    "\n",
    "G.add_edge('c', 'e', weight=4)\n",
    "\n",
    "G.add_edge('d', 'e', weight=4)  \n",
    "G.add_edge('d', 't', weight=5)\n",
    "\n",
    "G.add_edge('e', 't', weight=7)\n",
    "\n",
    "G.add_edge('f', 't', weight=3)\n",
    "\n",
    "\n",
    "edges = []\n",
    "weights = []\n",
    "for k in G.edges:\n",
    "    edges.append(k)\n",
    "    weights.append(G.get_edge_data(k[0],k[1]).values()[0]) \n",
    "    \n",
    "time_table = pd.DataFrame(\n",
    "            {'edge': edges\n",
    "              ,'weight': weights\n",
    "            }\n",
    "            )\n",
    "time_table['time_on'] = 0\n",
    "time_table['time_off'] = np.inf\n",
    "\n",
    "V_A = []\n",
    "V_B = []\n",
    "for edge in time_table.edge:\n",
    "    V_A = np.append(V_A,edge[0])\n",
    "    V_B = np.append(V_B,edge[1])\n",
    "time_table['V_A'] = V_A\n",
    "time_table['V_B'] = V_B\n",
    "time_table.loc[len(time_table)]=[('s', 't'),1,10,np.inf,'s','t']\n",
    "#time_table.loc[len(time_table)]=[('a', 'f'),1,5,np.inf,'a','f']\n",
    "\n",
    "time_table"
   ]
  },
  {
   "cell_type": "code",
   "execution_count": null,
   "metadata": {},
   "outputs": [],
   "source": []
  },
  {
   "cell_type": "code",
   "execution_count": 23,
   "metadata": {},
   "outputs": [],
   "source": [
    "G = nx.Graph()\n",
    "\n",
    "uniq_times = np.unique(time_table[['time_on', 'time_off']].values)[:-1]\n",
    "\n",
    "rpq = RPQ()"
   ]
  },
  {
   "cell_type": "code",
   "execution_count": 25,
   "metadata": {
    "scrolled": true
   },
   "outputs": [
    {
     "data": {
      "text/plain": [
       "array([  0.,  10.])"
      ]
     },
     "execution_count": 25,
     "metadata": {},
     "output_type": "execute_result"
    }
   ],
   "source": [
    "uniq_times"
   ]
  },
  {
   "cell_type": "code",
   "execution_count": 26,
   "metadata": {
    "scrolled": true
   },
   "outputs": [
    {
     "name": "stdout",
     "output_type": "stream",
     "text": [
      "0 add  ('a', 's')\n",
      "0 add  ('a', 'b')\n",
      "0 add  ('a', 'd')\n",
      "0 add  ('a', 'f')\n",
      "0 add  ('c', 's')\n",
      "0 add  ('c', 'b')\n",
      "0 add  ('c', 'e')\n",
      "0 add  ('b', 's')\n",
      "0 add  ('b', 'e')\n",
      "0 add  ('b', 'd')\n",
      "0 add  ('e', 'd')\n",
      "0 add  ('e', 't')\n",
      "0 add  ('d', 't')\n",
      "0 add  ('f', 't')\n"
     ]
    },
    {
     "data": {
      "image/png": "[encoded data removed]",
      "text/plain": [
       "<matplotlib.figure.Figure at 0xc533b70>"
      ]
     },
     "metadata": {},
     "output_type": "display_data"
    }
   ],
   "source": [
    "if rpq.time in uniq_times:\n",
    "    for edge in time_table[time_table.time_off == rpq.time].edge:\n",
    "        try:\n",
    "            G.remove_edge(edge[0], edge[1])\n",
    "            print rpq.time,'rem ', edge\n",
    "        except:\n",
    "            pass\n",
    "    for row in time_table[time_table.time_on == rpq.time].iterrows():\n",
    "        print rpq.time,'add ', row[1].edge\n",
    "        G.add_edge(row[1].edge[0], row[1].edge[1],weight = row[1].weight)\n",
    "        \n",
    "    print_G(G)\n",
    "\n",
    "    \n",
    "current_node, current_tot_weight = rpq.pop_current_node()\n",
    "\n",
    "list_affected_edges = time_table[(time_table.time_on == rpq.time) | (time_table.time_off == rpq.time)].edge.values\n",
    "flat_list_edges = list(itertools.chain(*list_affected_edges))\n",
    "\n",
    "vertex_to_check = list(set(flat_list_edges).intersection(rpq.visited))"
   ]
  },
  {
   "cell_type": "code",
   "execution_count": 30,
   "metadata": {},
   "outputs": [
    {
     "data": {
      "text/plain": [
       "1"
      ]
     },
     "execution_count": 30,
     "metadata": {},
     "output_type": "execute_result"
    }
   ],
   "source": [
    "rpq.time"
   ]
  },
  {
   "cell_type": "code",
   "execution_count": 28,
   "metadata": {},
   "outputs": [
    {
     "name": "stdout",
     "output_type": "stream",
     "text": [
      "[]\n"
     ]
    }
   ],
   "source": [
    "print vertex_to_check \n",
    "\n",
    "if vertex_to_check!=[]:\n",
    "\n",
    "    for vrtx in vertex_to_check:\n",
    "        visited = rpq.df.drop_duplicates(subset = ['time'], keep=\"first\").reset_index().drop('index',axis=1)\n",
    "        inst = visited[visited.current_node == vrtx]\n",
    "        temp_new_edges = (time_table[((time_table.V_A==vrtx) | (time_table.V_B==vrtx)) & (time_table.time_on==rpq.time)].\n",
    "                         reset_index().\n",
    "                         drop('index'\n",
    "                              ,axis=1))\n",
    "\n",
    "        for i in np.arange(0,len(temp_new_edges)):\n",
    "            if temp_new_edges.V_A.values[0]==vrtx:\n",
    "                new_vrtx = temp_new_edges.V_B.values[i]\n",
    "            else:\n",
    "                new_vrtx = temp_new_edges.V_A.values[i]\n",
    "            print i,new_vrtx,vrtx\n",
    "            rpq.insert([new_vrtx\n",
    "                    ,inst.distance_from_start.values[0]+temp_new_edges.weight[i]\n",
    "                    ,vrtx\n",
    "                    ,rpq.time\n",
    "                    ,rpq.time\n",
    "                   ])\n",
    "else:\n",
    "    pass\n",
    "\n"
   ]
  },
  {
   "cell_type": "code",
   "execution_count": null,
   "metadata": {},
   "outputs": [],
   "source": []
  },
  {
   "cell_type": "code",
   "execution_count": 29,
   "metadata": {
    "scrolled": true
   },
   "outputs": [
    {
     "name": "stdout",
     "output_type": "stream",
     "text": [
      "   time nodes_visited\n",
      "0   0.0            []\n",
      "1   1.0           [s]\n"
     ]
    },
    {
     "data": {
      "text/html": [
       "<div>\n",
       "<table border=\"1\" class=\"dataframe\">\n",
       "  <thead>\n",
       "    <tr style=\"text-align: right;\">\n",
       "      <th></th>\n",
       "      <th>current_node</th>\n",
       "      <th>distance_from_start</th>\n",
       "      <th>prev_node</th>\n",
       "      <th>time_joined</th>\n",
       "      <th>time</th>\n",
       "    </tr>\n",
       "  </thead>\n",
       "  <tbody>\n",
       "    <tr>\n",
       "      <th>0</th>\n",
       "      <td>a</td>\n",
       "      <td>2.0</td>\n",
       "      <td>s</td>\n",
       "      <td>1.0</td>\n",
       "      <td>1.0</td>\n",
       "    </tr>\n",
       "    <tr>\n",
       "      <th>1</th>\n",
       "      <td>b</td>\n",
       "      <td>3.0</td>\n",
       "      <td>s</td>\n",
       "      <td>1.0</td>\n",
       "      <td>1.0</td>\n",
       "    </tr>\n",
       "    <tr>\n",
       "      <th>2</th>\n",
       "      <td>c</td>\n",
       "      <td>4.0</td>\n",
       "      <td>s</td>\n",
       "      <td>1.0</td>\n",
       "      <td>1.0</td>\n",
       "    </tr>\n",
       "    <tr>\n",
       "      <th>3</th>\n",
       "      <td>s</td>\n",
       "      <td>0.0</td>\n",
       "      <td>s</td>\n",
       "      <td>0.0</td>\n",
       "      <td>0.0</td>\n",
       "    </tr>\n",
       "  </tbody>\n",
       "</table>\n",
       "</div>"
      ],
      "text/plain": [
       "  current_node  distance_from_start prev_node  time_joined  time\n",
       "0            a                  2.0         s          1.0   1.0\n",
       "1            b                  3.0         s          1.0   1.0\n",
       "2            c                  4.0         s          1.0   1.0\n",
       "3            s                  0.0         s          0.0   0.0"
      ]
     },
     "execution_count": 29,
     "metadata": {},
     "output_type": "execute_result"
    }
   ],
   "source": [
    "#rpq.de_dup()\n",
    "current_node, current_tot_weight = rpq.pop_current_node()\n",
    "\n",
    "rpq.add_visited(current_node) ## note that this node has been visited\n",
    "rpq.increase_time() ## increase timer by 1\n",
    "\n",
    "# start logging which nodes are considered as visited through time\n",
    "rpq.update_visited_nodes()\n",
    "print rpq.df_visited\n",
    "\n",
    "current_connections = list(G.adj[current_node])\n",
    "rpq.add_timestep()\n",
    "visited = rpq.df.drop_duplicates(subset = ['time']).reset_index().drop('index',axis=1)\n",
    "if vertex_to_check!=[]:\n",
    "    print \"change!!!!!!\"\n",
    "    \n",
    "    time_in_past = visited[visited.current_node==current_node].time_joined.min()\n",
    "    rpq.visited=rpq.df_visited[rpq.df_visited.time==time_in_past].nodes_visited.values[0]\n",
    "\n",
    "nodes_to_check = list(set(current_connections).difference(rpq.visited))\n",
    "\n",
    "for node in nodes_to_check:\n",
    "    #print current_node,node,+G[current_node][node].values()[0]\n",
    "    rpq.insert([node\n",
    "                ,current_tot_weight+G[current_node][node].values()[0]\n",
    "                ,current_node\n",
    "                ,rpq.time\n",
    "                ,rpq.time\n",
    "               ])\n",
    "#rpq.de_dup()\n",
    "tst=rpq.df.drop_duplicates(subset = ['current_node','time'], keep=\"first\")\n",
    "#rpq.df=tst\n",
    "rpq.df"
   ]
  },
  {
   "cell_type": "code",
   "execution_count": null,
   "metadata": {},
   "outputs": [],
   "source": [
    "visited[visited.current_node==current_node]"
   ]
  },
  {
   "cell_type": "code",
   "execution_count": null,
   "metadata": {
    "scrolled": true
   },
   "outputs": [],
   "source": [
    "current_node"
   ]
  },
  {
   "cell_type": "code",
   "execution_count": null,
   "metadata": {},
   "outputs": [],
   "source": [
    "visited"
   ]
  },
  {
   "cell_type": "code",
   "execution_count": null,
   "metadata": {
    "scrolled": true
   },
   "outputs": [],
   "source": [
    "visited[visited.current_node==current_node].time_joined.min()"
   ]
  },
  {
   "cell_type": "code",
   "execution_count": null,
   "metadata": {},
   "outputs": [],
   "source": [
    "visited"
   ]
  },
  {
   "cell_type": "code",
   "execution_count": null,
   "metadata": {},
   "outputs": [],
   "source": []
  },
  {
   "cell_type": "code",
   "execution_count": null,
   "metadata": {},
   "outputs": [],
   "source": [
    "vrtx"
   ]
  },
  {
   "cell_type": "code",
   "execution_count": null,
   "metadata": {},
   "outputs": [],
   "source": [
    "# visited = rpq.df.drop_duplicates('time').reset_index().drop('index',axis=1)\n",
    "# inst = visited[visited.current_node == vrtx]\n",
    "# temp_new_edges = (time_table[((time_table.V_A==vrtx) | (time_table.V_B==vrtx)) & (time_table.time_on==rpq.time)].\n",
    "#                  reset_index().\n",
    "#                  drop('index'\n",
    "#                       ,axis=1))"
   ]
  },
  {
   "cell_type": "code",
   "execution_count": null,
   "metadata": {},
   "outputs": [],
   "source": []
  },
  {
   "cell_type": "code",
   "execution_count": null,
   "metadata": {},
   "outputs": [],
   "source": []
  },
  {
   "cell_type": "code",
   "execution_count": null,
   "metadata": {},
   "outputs": [],
   "source": []
  },
  {
   "cell_type": "code",
   "execution_count": null,
   "metadata": {},
   "outputs": [],
   "source": []
  },
  {
   "cell_type": "code",
   "execution_count": null,
   "metadata": {},
   "outputs": [],
   "source": [
    "rpq.time=10"
   ]
  },
  {
   "cell_type": "code",
   "execution_count": null,
   "metadata": {},
   "outputs": [],
   "source": [
    "for vrtx in vertex_to_check:\n",
    "    print vrtx\n",
    "    visited = rpq.df.drop_duplicates('time').reset_index().drop('index',axis=1)\n",
    "    inst = visited[visited.current_node == vrtx]\n",
    "    temp_new_edges = (time_table[((time_table.V_A==vrtx) | (time_table.V_B==vrtx)) & (time_table.time_on==rpq.time)].\n",
    "                     reset_index().\n",
    "                     drop('index'\n",
    "                          ,axis=1))\n",
    "\n",
    "    for i in np.arange(0,len(temp_new_edges)):\n",
    "        print i,new_vrtx,vrtx\n",
    "        if temp_new_edges.V_A.values[0]==vrtx:\n",
    "            new_vrtx = temp_new_edges.V_B.values[i]\n",
    "        else:\n",
    "            new_vrtx = temp_new_edges.V_A.values[i]\n",
    "        print i,new_vrtx,vrtx\n",
    "#             rpq.insert([new_vrtx\n",
    "#                     ,inst.distance_from_start.values[0]+temp_new_edges.weight[i]\n",
    "#                     ,vrtx\n",
    "#                     ,rpq.time\n",
    "#                     ,rpq.time\n",
    "#                    ])"
   ]
  },
  {
   "cell_type": "code",
   "execution_count": null,
   "metadata": {},
   "outputs": [],
   "source": [
    "temp_new_edges"
   ]
  },
  {
   "cell_type": "code",
   "execution_count": null,
   "metadata": {},
   "outputs": [],
   "source": [
    "temp_new_edges"
   ]
  },
  {
   "cell_type": "code",
   "execution_count": null,
   "metadata": {},
   "outputs": [],
   "source": [
    "vrtx='e'"
   ]
  },
  {
   "cell_type": "code",
   "execution_count": null,
   "metadata": {},
   "outputs": [],
   "source": [
    "(time_table[((time_table.V_A==vrtx) | (time_table.V_B==vrtx)) & (time_table.time_on==rpq.time)].\n",
    "                     reset_index().\n",
    "                     drop('index'\n",
    "                          ,axis=1))"
   ]
  },
  {
   "cell_type": "code",
   "execution_count": null,
   "metadata": {},
   "outputs": [],
   "source": [
    "visited"
   ]
  },
  {
   "cell_type": "code",
   "execution_count": null,
   "metadata": {},
   "outputs": [],
   "source": []
  },
  {
   "cell_type": "code",
   "execution_count": null,
   "metadata": {},
   "outputs": [],
   "source": [
    "rpq.df"
   ]
  },
  {
   "cell_type": "code",
   "execution_count": null,
   "metadata": {},
   "outputs": [],
   "source": []
  },
  {
   "cell_type": "code",
   "execution_count": null,
   "metadata": {},
   "outputs": [],
   "source": []
  },
  {
   "cell_type": "code",
   "execution_count": null,
   "metadata": {},
   "outputs": [],
   "source": []
  },
  {
   "cell_type": "code",
   "execution_count": null,
   "metadata": {},
   "outputs": [],
   "source": []
  },
  {
   "cell_type": "code",
   "execution_count": null,
   "metadata": {},
   "outputs": [],
   "source": []
  },
  {
   "cell_type": "code",
   "execution_count": null,
   "metadata": {},
   "outputs": [],
   "source": []
  },
  {
   "cell_type": "code",
   "execution_count": null,
   "metadata": {},
   "outputs": [],
   "source": []
  },
  {
   "cell_type": "code",
   "execution_count": null,
   "metadata": {},
   "outputs": [],
   "source": []
  },
  {
   "cell_type": "code",
   "execution_count": null,
   "metadata": {},
   "outputs": [],
   "source": []
  },
  {
   "cell_type": "code",
   "execution_count": null,
   "metadata": {},
   "outputs": [],
   "source": []
  },
  {
   "cell_type": "code",
   "execution_count": null,
   "metadata": {},
   "outputs": [],
   "source": []
  },
  {
   "cell_type": "code",
   "execution_count": null,
   "metadata": {},
   "outputs": [],
   "source": []
  },
  {
   "cell_type": "code",
   "execution_count": null,
   "metadata": {},
   "outputs": [],
   "source": []
  },
  {
   "cell_type": "code",
   "execution_count": null,
   "metadata": {},
   "outputs": [],
   "source": []
  },
  {
   "cell_type": "code",
   "execution_count": null,
   "metadata": {},
   "outputs": [],
   "source": []
  },
  {
   "cell_type": "code",
   "execution_count": null,
   "metadata": {},
   "outputs": [],
   "source": []
  },
  {
   "cell_type": "code",
   "execution_count": null,
   "metadata": {},
   "outputs": [],
   "source": [
    "new_vrtx"
   ]
  },
  {
   "cell_type": "code",
   "execution_count": null,
   "metadata": {},
   "outputs": [],
   "source": [
    "temp_new_edges"
   ]
  },
  {
   "cell_type": "code",
   "execution_count": null,
   "metadata": {},
   "outputs": [],
   "source": [
    "inst.distance_from_start.values[0]+temp_new_edges.weight[i]"
   ]
  },
  {
   "cell_type": "code",
   "execution_count": null,
   "metadata": {},
   "outputs": [],
   "source": [
    "for i in np.arange(0,len(temp_new_edges)):\n",
    "                 print i"
   ]
  },
  {
   "cell_type": "code",
   "execution_count": null,
   "metadata": {},
   "outputs": [],
   "source": [
    "temp_new_edges.V_B.values[0]"
   ]
  },
  {
   "cell_type": "code",
   "execution_count": null,
   "metadata": {},
   "outputs": [],
   "source": [
    "new_vrtx"
   ]
  },
  {
   "cell_type": "code",
   "execution_count": null,
   "metadata": {},
   "outputs": [],
   "source": [
    "temp_new_edges.V_A.values[0]"
   ]
  },
  {
   "cell_type": "code",
   "execution_count": null,
   "metadata": {},
   "outputs": [],
   "source": [
    "# G = nx.Graph()\n",
    "\n",
    "\n",
    "# G.add_edge('o', 'a', weight=2)  \n",
    "# G.add_edge('o', 'b', weight=5)\n",
    "# G.add_edge('o', 'c', weight=4)\n",
    "\n",
    "# G.add_edge('a', 'b', weight=2)  \n",
    "# G.add_edge('a', 'd', weight=7)\n",
    "# G.add_edge('a', 'f', weight=12)\n",
    "\n",
    "# G.add_edge('b', 'c', weight=1)  \n",
    "# G.add_edge('b', 'd', weight=4)\n",
    "# G.add_edge('b', 'e', weight=3)\n",
    "\n",
    "# G.add_edge('c', 'e', weight=4)\n",
    "\n",
    "# G.add_edge('d', 'e', weight=4)  \n",
    "# G.add_edge('d', 't', weight=5)\n",
    "\n",
    "# G.add_edge('e', 't', weight=7)\n",
    "\n",
    "# G.add_edge('f', 't', weight=3)\n",
    "\n"
   ]
  },
  {
   "cell_type": "code",
   "execution_count": null,
   "metadata": {},
   "outputs": [],
   "source": []
  },
  {
   "cell_type": "code",
   "execution_count": null,
   "metadata": {},
   "outputs": [],
   "source": []
  },
  {
   "cell_type": "code",
   "execution_count": null,
   "metadata": {},
   "outputs": [],
   "source": []
  },
  {
   "cell_type": "code",
   "execution_count": null,
   "metadata": {},
   "outputs": [],
   "source": []
  },
  {
   "cell_type": "code",
   "execution_count": null,
   "metadata": {},
   "outputs": [],
   "source": []
  },
  {
   "cell_type": "code",
   "execution_count": null,
   "metadata": {},
   "outputs": [],
   "source": []
  },
  {
   "cell_type": "code",
   "execution_count": null,
   "metadata": {},
   "outputs": [],
   "source": [
    "time_table[((time_table.V_A==vrtx) | (time_table.V_B==vrtx)) & (time_table.time_on==rpq.time)]"
   ]
  },
  {
   "cell_type": "code",
   "execution_count": null,
   "metadata": {},
   "outputs": [],
   "source": [
    "temp_new_edges = (time_table[((time_table.V_A==vrtx) | (time_table.V_B==vrtx)) & (time_table.time_on==rpq.time)].\n",
    "                         reset_index().\n",
    "                         drop('index'\n",
    "                              ,axis=1))"
   ]
  },
  {
   "cell_type": "code",
   "execution_count": null,
   "metadata": {},
   "outputs": [],
   "source": []
  },
  {
   "cell_type": "code",
   "execution_count": null,
   "metadata": {},
   "outputs": [],
   "source": [
    "a = time_table.edge.values\n",
    "b = 't'\n",
    "[list(set(sublist).intersection(set(b))) for sublist in a]"
   ]
  },
  {
   "cell_type": "code",
   "execution_count": null,
   "metadata": {},
   "outputs": [],
   "source": [
    "list_affected_edges"
   ]
  },
  {
   "cell_type": "code",
   "execution_count": null,
   "metadata": {},
   "outputs": [],
   "source": [
    "time_table.edge.values"
   ]
  },
  {
   "cell_type": "code",
   "execution_count": null,
   "metadata": {},
   "outputs": [],
   "source": [
    "current_node"
   ]
  },
  {
   "cell_type": "code",
   "execution_count": null,
   "metadata": {},
   "outputs": [],
   "source": [
    "rpq.time"
   ]
  },
  {
   "cell_type": "code",
   "execution_count": null,
   "metadata": {},
   "outputs": [],
   "source": [
    "# G = nx.Graph()\n",
    "\n",
    "# uniq_times = np.unique(time_table[['time_on', 'time_off']].values)[:-1]\n",
    "# for i in uniq_times:\n",
    "#     for edge in time_table[time_table.time_off == i].edge:\n",
    "#         try:\n",
    "#             G.remove_edge(edge[0], edge[1])\n",
    "#             print i,'rem ', edge\n",
    "#         except:\n",
    "#             pass\n",
    "#     for row in time_table[time_table.time_on == i].iterrows():\n",
    "#         print i,'add ', row[1][0]\n",
    "#         G.add_edge(row[1][0][0], row[1][0][1],weight = row[1][3])\n",
    "        \n",
    "#     print_G(G)"
   ]
  },
  {
   "cell_type": "code",
   "execution_count": null,
   "metadata": {},
   "outputs": [],
   "source": []
  },
  {
   "cell_type": "code",
   "execution_count": null,
   "metadata": {},
   "outputs": [],
   "source": [
    "G = nx.Graph()\n",
    "\n",
    "\n",
    "G.add_edge('s', 'a', weight=2)  \n",
    "G.add_edge('s', 'b', weight=5)\n",
    "G.add_edge('s', 'c', weight=4)\n",
    "\n",
    "G.add_edge('a', 'b', weight=2)  \n",
    "G.add_edge('a', 'd', weight=7)\n",
    "G.add_edge('a', 'f', weight=12)\n",
    "\n",
    "G.add_edge('b', 'c', weight=1)  \n",
    "G.add_edge('b', 'd', weight=4)\n",
    "G.add_edge('b', 'e', weight=3)\n",
    "\n",
    "G.add_edge('c', 'e', weight=4)\n",
    "\n",
    "G.add_edge('d', 'e', weight=4)  \n",
    "G.add_edge('d', 't', weight=5)\n",
    "\n",
    "G.add_edge('e', 't', weight=7)\n",
    "\n",
    "G.add_edge('f', 't', weight=3)"
   ]
  },
  {
   "cell_type": "code",
   "execution_count": null,
   "metadata": {},
   "outputs": [],
   "source": [
    "rpq = RPQ()"
   ]
  },
  {
   "cell_type": "code",
   "execution_count": null,
   "metadata": {},
   "outputs": [],
   "source": [
    "current_node, current_tot_weight = rpq.pop_current_node()\n",
    "print current_node,current_tot_weight\n",
    "rpq.add_visited(current_node) ## note that this node has been visited\n",
    "rpq.increase_time() ## increase timer by 1\n",
    "\n",
    "current_connections = list(G.adj[current_node])\n",
    "rpq.add_timestep()\n",
    "\n",
    "for node in list(set(current_connections).difference(rpq.visited)):\n",
    "    print current_node,node,+G[current_node][node].values()[0]\n",
    "    rpq.insert([node\n",
    "                ,current_tot_weight+G[current_node][node].values()[0]\n",
    "                ,current_node\n",
    "                ,rpq.time\n",
    "                ,rpq.time\n",
    "               ])\n",
    "rpq.de_dup()\n"
   ]
  },
  {
   "cell_type": "code",
   "execution_count": null,
   "metadata": {},
   "outputs": [],
   "source": [
    "rpq.pop_current_node()"
   ]
  },
  {
   "cell_type": "code",
   "execution_count": null,
   "metadata": {},
   "outputs": [],
   "source": [
    "rpq.visited"
   ]
  },
  {
   "cell_type": "code",
   "execution_count": null,
   "metadata": {},
   "outputs": [],
   "source": []
  },
  {
   "cell_type": "code",
   "execution_count": null,
   "metadata": {},
   "outputs": [],
   "source": []
  },
  {
   "cell_type": "code",
   "execution_count": null,
   "metadata": {},
   "outputs": [],
   "source": []
  },
  {
   "cell_type": "code",
   "execution_count": null,
   "metadata": {},
   "outputs": [],
   "source": []
  },
  {
   "cell_type": "code",
   "execution_count": null,
   "metadata": {},
   "outputs": [],
   "source": [
    "time_table"
   ]
  },
  {
   "cell_type": "code",
   "execution_count": null,
   "metadata": {},
   "outputs": [],
   "source": []
  },
  {
   "cell_type": "code",
   "execution_count": null,
   "metadata": {},
   "outputs": [],
   "source": []
  },
  {
   "cell_type": "code",
   "execution_count": null,
   "metadata": {},
   "outputs": [],
   "source": []
  },
  {
   "cell_type": "code",
   "execution_count": null,
   "metadata": {},
   "outputs": [],
   "source": []
  },
  {
   "cell_type": "code",
   "execution_count": null,
   "metadata": {},
   "outputs": [],
   "source": []
  },
  {
   "cell_type": "code",
   "execution_count": null,
   "metadata": {},
   "outputs": [],
   "source": []
  },
  {
   "cell_type": "code",
   "execution_count": null,
   "metadata": {},
   "outputs": [],
   "source": []
  },
  {
   "cell_type": "code",
   "execution_count": null,
   "metadata": {},
   "outputs": [],
   "source": []
  },
  {
   "cell_type": "code",
   "execution_count": null,
   "metadata": {},
   "outputs": [],
   "source": [
    "\n"
   ]
  },
  {
   "cell_type": "code",
   "execution_count": null,
   "metadata": {},
   "outputs": [],
   "source": []
  }
 ],
 "metadata": {
  "kernelspec": {
   "display_name": "Python 2",
   "language": "python",
   "name": "python2"
  },
  "language_info": {
   "codemirror_mode": {
    "name": "ipython",
    "version": 2
   },
   "file_extension": ".py",
   "mimetype": "text/x-python",
   "name": "python",
   "nbconvert_exporter": "python",
   "pygments_lexer": "ipython2",
   "version": "2.7.15"
  }
 },
 "nbformat": 4,
 "nbformat_minor": 2
}
