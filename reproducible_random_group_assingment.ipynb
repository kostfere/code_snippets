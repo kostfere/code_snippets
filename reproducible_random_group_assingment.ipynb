{
 "cells": [
  {
   "cell_type": "code",
   "execution_count": 3,
   "metadata": {},
   "outputs": [
    {
     "data": {
      "text/plain": [
       "array([ 0.10290515,  0.79343967,  0.10365518])"
      ]
     },
     "execution_count": 3,
     "metadata": {},
     "output_type": "execute_result"
    }
   ],
   "source": [
    "def experiment(exp_item, seed, groups):\n",
    "    import hashlib\n",
    "    import numpy as np\n",
    "    groups_arr = np.array(groups)\n",
    "    base = groups_arr.sum()\n",
    "    m=hashlib.md5(str(exp_item)).hexdigest()[10:]\n",
    "    small_group = int(m, 16)%base\n",
    "    return np.searchsorted(np.cumsum(groups)-1, small_group)\n",
    "\n",
    "##test\n",
    "import numpy as np\n",
    "a = np.array([])\n",
    "for i in range(1,20000):\n",
    "    a=np.append(a,experiment(i,'test_seed',[1,8,1]))\n",
    "    \n",
    "np.unique(a, return_counts=True)[1]/float(len(a))"
   ]
  }
 ],
 "metadata": {
  "kernelspec": {
   "display_name": "Python 2",
   "language": "python",
   "name": "python2"
  },
  "language_info": {
   "codemirror_mode": {
    "name": "ipython",
    "version": 2
   },
   "file_extension": ".py",
   "mimetype": "text/x-python",
   "name": "python",
   "nbconvert_exporter": "python",
   "pygments_lexer": "ipython2",
   "version": "2.7.15"
  }
 },
 "nbformat": 4,
 "nbformat_minor": 2
}
